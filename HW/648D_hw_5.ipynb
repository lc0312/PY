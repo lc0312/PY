{
 "metadata": {
  "language_info": {
   "codemirror_mode": {
    "name": "ipython",
    "version": 3
   },
   "file_extension": ".py",
   "mimetype": "text/x-python",
   "name": "python",
   "nbconvert_exporter": "python",
   "pygments_lexer": "ipython3",
   "version": "3.9.4"
  },
  "orig_nbformat": 2,
  "kernelspec": {
   "name": "python394jvsc74a57bd0989ebaf48bbbd63107457a42e9664bb8a7781248c32d1f13481ccc71f75ee29e",
   "display_name": "Python 3.9.4 64-bit ('base': conda)"
  },
  "metadata": {
   "interpreter": {
    "hash": "989ebaf48bbbd63107457a42e9664bb8a7781248c32d1f13481ccc71f75ee29e"
   }
  }
 },
 "nbformat": 4,
 "nbformat_minor": 2,
 "cells": [
  {
   "cell_type": "code",
   "execution_count": 10,
   "metadata": {},
   "outputs": [
    {
     "output_type": "stream",
     "name": "stdout",
     "text": [
      "37.5\n[250, 275, 300, 325, 350, 375, 400, 425, 450, 475]\n"
     ]
    }
   ],
   "source": [
    "import numpy as np \n",
    "bd_w = [50,55,60,65,70,75,80,85,90,95]\n",
    "drug_need = []\n",
    "for i in range (10):\n",
    "    drug_need.append(5*bd_w[i])\n",
    "waste = []\n",
    "\n",
    "for i in range (10):\n",
    "    if drug_need[i]%100 != 0:\n",
    "        waste.append (((drug_need[i]//100)+1)*100-drug_need[i])\n",
    "\n",
    "print (np.sum(waste)/10)\n",
    "print (drug_need)"
   ]
  },
  {
   "cell_type": "code",
   "execution_count": 5,
   "metadata": {},
   "outputs": [
    {
     "output_type": "execute_result",
     "data": {
      "text/plain": [
       "5"
      ]
     },
     "metadata": {},
     "execution_count": 5
    }
   ],
   "source": []
  },
  {
   "cell_type": "code",
   "execution_count": null,
   "metadata": {},
   "outputs": [],
   "source": []
  }
 ]
}