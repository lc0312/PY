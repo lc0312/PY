{
 "cells": [
  {
   "cell_type": "code",
   "execution_count": 1,
   "metadata": {},
   "outputs": [
    {
     "name": "stdout",
     "output_type": "stream",
     "text": [
      "Question 1:\n",
      "LiFePO4 + C6 = LiC6 + FePO4\n",
      "Capacity = 116.615 mA*h/g\n",
      "Energy density = 384.830 W*h/kg\n"
     ]
    }
   ],
   "source": [
    "# Q1\n",
    "print ('Question 1:')\n",
    "\n",
    "equ=\"LiFePO4 + C6 = LiC6 + FePO4\"\n",
    "\n",
    "F = 26800 #mAh\n",
    "n = 1\n",
    "\n",
    "M_a = 6*12.01 # molar weight of anode\n",
    "M_c = 6.941+30.97+55.847+4*15.9994 \n",
    "\n",
    "V_c = 3.4 # anode potential\n",
    "V_a = 0.1 \n",
    "\n",
    "C_a = n*F/M_a # capacity of anode 371.9122953094643\n",
    "C_c = n*F/M_c # 169.88303426312598\n",
    "C_T = 1/(1/C_a+1/C_c)\n",
    "\n",
    "U_a = C_a*V_a # energy density of anode\n",
    "U_c = C_c*V_c\n",
    "U_T = C_T*(V_c-V_a)\n",
    "\n",
    "print (equ)\n",
    "print ('Capacity = %.3f mA*h/g' %C_T)\n",
    "print ('Energy density = %.3f W*h/kg' %U_T)"
   ]
  },
  {
   "cell_type": "code",
   "execution_count": 2,
   "metadata": {},
   "outputs": [
    {
     "name": "stdout",
     "output_type": "stream",
     "text": [
      "Question 2:\n",
      "Capacity = 163.201 mA*h/g\n",
      "Energy density = 505.923 W*h/kg\n"
     ]
    }
   ],
   "source": [
    "# Q2\n",
    "print ('Question 2:')\n",
    "\n",
    "n = 4.4\n",
    "\n",
    "M_c = 30.97+55.847+4*15.9994 #FEPO4\n",
    "C_c = n*26800/(4.4*M_c)\n",
    "\n",
    "C_a = 2000 #Li4.4Si\n",
    "V_a = 0.3\n",
    "\n",
    "C_T = 1/(1/C_a+1/C_c)\n",
    "U_T = C_T*(V_c-V_a)\n",
    "\n",
    "print ('Capacity = %.3f mA*h/g' %C_T)\n",
    "print ('Energy density = %.3f W*h/kg' %U_T)"
   ]
  },
  {
   "cell_type": "code",
   "execution_count": 3,
   "metadata": {},
   "outputs": [
    {
     "name": "stdout",
     "output_type": "stream",
     "text": [
      "Question 3:\n",
      "Capacity =910.635 mA*h/g\n",
      "Energy density =1730.21 W*h/kg\n"
     ]
    }
   ],
   "source": [
    "# Q3\n",
    "print ('Question 3:')\n",
    "\n",
    "n=4.4\n",
    "\n",
    "M_c = 32.06 #S\n",
    "C_c = n*F/(2.2*M_c)\n",
    "V_c = 2.2\n",
    "\n",
    "C_T = 1/(1/C_a+1/C_c)\n",
    "U_T = C_T*(V_c-V_a)\n",
    "\n",
    "print ('Capacity =%.3f mA*h/g' %C_T)\n",
    "print ('Energy density =%.2f W*h/kg' %U_T)"
   ]
  },
  {
   "cell_type": "code",
   "execution_count": 4,
   "metadata": {},
   "outputs": [
    {
     "name": "stdout",
     "output_type": "stream",
     "text": [
      "Question 4:\n",
      "Weight of anode = 5.37761 g\n",
      "Weight of cathode = 11.7728 g\n",
      "Extra LiFePO4 = 1.308090 g\n"
     ]
    }
   ],
   "source": [
    "# Q4\n",
    "print ('Question 4:')\n",
    "\n",
    "C_a = 371.9122953094643 # mAh/g\n",
    "C_c = 169.88303426312598 \n",
    "\n",
    "C = 2000 # mAh\n",
    "\n",
    "m_a = C/C_a\n",
    "m_c = C/C_c\n",
    "\n",
    "print ('Weight of anode = %.5f g' %m_a)\n",
    "print ('Weight of cathode = %.4f g' %m_c)\n",
    "print ('Extra LiFePO4 = %f g' %(m_c/0.9 - m_c))"
   ]
  },
  {
   "cell_type": "code",
   "execution_count": 5,
   "metadata": {},
   "outputs": [
    {
     "name": "stdout",
     "output_type": "stream",
     "text": [
      "Question 5:\n",
      "I will use more graphite to make sure that during the cycles, the capacity of graphite will at least equal to anode, so that all the capacity of LiFePO4 will not waste\n"
     ]
    }
   ],
   "source": [
    "# Q5\n",
    "print ('Question 5:')\n",
    "print ('I will use more graphite to make sure that during the cycles, the capacity of graphite will at least equal to anode, so that all the capacity of LiFePO4 will not waste')"
   ]
  },
  {
   "cell_type": "code",
   "execution_count": 6,
   "metadata": {},
   "outputs": [
    {
     "name": "stdout",
     "output_type": "stream",
     "text": [
      "Question 6:\n"
     ]
    },
    {
     "data": {
      "image/png": "[encoded data removed]",
      "text/plain": [
       "<Figure size 432x288 with 1 Axes>"
      ]
     },
     "metadata": {
      "needs_background": "light"
     },
     "output_type": "display_data"
    },
    {
     "name": "stdout",
     "output_type": "stream",
     "text": [
      "With the increase of mass of other accessories, the cell capacity decreased \n"
     ]
    }
   ],
   "source": [
    "# Q6\n",
    "print ('Question 6:')\n",
    "import numpy as np\n",
    "import matplotlib.pyplot as plt\n",
    "\n",
    "C_M = np.linspace (0,0.5,100)\n",
    "\n",
    "C_A = 371.9122953094643\n",
    "C_C = 169.88303426312598\n",
    "C_T = 1/(1/C_A+1/C_C+C_M)\n",
    "\n",
    "plt.plot (C_M,C_T, label='Cell Capacity')\n",
    "plt.xlabel ('Specific mass / (mAh/g)')\n",
    "plt.ylabel ('Total Capacity / (mAh/g)')\n",
    "plt.legend (loc='best')\n",
    "plt.grid(b=1,which='major', linestyle='-',alpha=0.5)\n",
    "plt.minorticks_on()\n",
    "plt.grid(b=True, which='minor',linestyle='-', alpha=0.2)\n",
    "plt.show ()\n",
    "ep='With the increase of mass of other accessories, the cell capacity decreased '\n",
    "print (ep)"
   ]
  },
  {
   "cell_type": "code",
   "execution_count": null,
   "metadata": {},
   "outputs": [],
   "source": []
  }
 ],
 "metadata": {
  "kernelspec": {
   "display_name": "Python 3",
   "language": "python",
   "name": "python3"
  },
  "language_info": {
   "codemirror_mode": {
    "name": "ipython",
    "version": 3
   },
   "file_extension": ".py",
   "mimetype": "text/x-python",
   "name": "python",
   "nbconvert_exporter": "python",
   "pygments_lexer": "ipython3",
   "version": "3.7.7"
  }
 },
 "nbformat": 4,
 "nbformat_minor": 4
}
