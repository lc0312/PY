{
 "cells": [
  {
   "cell_type": "code",
   "execution_count": 49,
   "metadata": {},
   "outputs": [
    {
     "name": "stdout",
     "output_type": "stream",
     "text": [
      "0.00803648904997038\n",
      "(i) x_max = 0.602737 m \n",
      "\n",
      "(ii) \n",
      " C_A = 0.012500 kmol/m^3\n",
      " C_B = 0.025000 kmol/m^3\n",
      " C_C = 0.012500 kmol/m^3\n"
     ]
    }
   ],
   "source": [
    "# Q1\n",
    "\n",
    "import numpy as np\n",
    "C_A0 = 0.05 # kmol/(m**3)\n",
    "v_0 = 0.15 # m**3/hr\n",
    "A = 2*10**-3 # m**2\n",
    "k_1 = 172.5 # /hr\n",
    "N_A0 = 10.2 # kmol\n",
    "k_2 = k_1/2 \n",
    "v_0_ve = v_0/A\n",
    "t_max = np.log((k_2/k_1))/(k_2-k_1)\n",
    "x_max = t_max*v_0_ve\n",
    "C_A = C_A0*np.exp(-k_1*t_max)\n",
    "C_B = k_1*C_A0*(np.exp(-k_1*t_max)-np.exp(-k_2*t_max))/(k_2-k_1)\n",
    "C_C = C_A0-C_A-C_B\n",
    "print (t_max)\n",
    "print ('(i) x_max = %f m \\n'%(x_max))\n",
    "print ('(ii) \\n C_A = %f kmol/m^3\\n C_B = %f kmol/m^3\\n C_C = %f kmol/m^3'%(C_A,C_B,C_C))"
   ]
  },
  {
   "cell_type": "code",
   "execution_count": 50,
   "metadata": {},
   "outputs": [
    {
     "name": "stdout",
     "output_type": "stream",
     "text": [
      "(i) C_A1 = 0.650 mol/L\n",
      "(ii) k_1 = 0.005385 /min\n",
      "(iii) C_A2 = 0.250 mol/L\n"
     ]
    }
   ],
   "source": [
    "# Q2\n",
    "\n",
    "rho_C_P = 100 # cal/(L*K)\n",
    "delta_H_R = -20000 # cal/mol\n",
    "C_A = np.array([[1.0],[0],[0]]) # mol/L\n",
    "V = 10 # L\n",
    "Q = 600 # cal/min\n",
    "v = 0.1 # L/min\n",
    "T=[50, 60, 140] # Cel\n",
    "t_CSTR = V/v\n",
    "\n",
    "C_A[1] = C_A[0]+((Q+rho_C_P*v*(T[1]-T[0]))/(v*delta_H_R))\n",
    "\n",
    "k_1 = (C_A[0]-C_A[1])/(t_CSTR*C_A[1])\n",
    "\n",
    "C_A[2] = C_A[1]+((rho_C_P*v*(T[2]-T[1]))/(v*delta_H_R))\n",
    "\n",
    "print ('(i) C_A1 = %.3f mol/L' %(C_A[1]))\n",
    "print ('(ii) k_1 = %f /min' %(k_1))\n",
    "print ('(iii) C_A2 = %.3f mol/L' %(C_A[2]))"
   ]
  },
  {
   "cell_type": "code",
   "execution_count": 51,
   "metadata": {},
   "outputs": [
    {
     "name": "stdout",
     "output_type": "stream",
     "text": [
      "V_CSTR= 96.000 L\n",
      "V_PFR= 138.629 L\n"
     ]
    }
   ],
   "source": [
    "# Q3\n",
    "\n",
    "C_A=np.array([[1.2], [0.6], [0.15]]) #mol/L\n",
    "C_A_data=np.array([[0.1], [0.5], [1], [1.5], [2]]) #mol/L\n",
    "r_A_mi_data=np.array([[5], [1], [0.5], [0.38], [0.26]]) #L*hr/mol\n",
    "X_A=np.array([[0.5], [0.75]])\n",
    "v=200 #L/hr\n",
    "# s-s: dCA/dt=0=(1/theta)*(CA0-CA)-k*CA, CA=CA0-k*CA*theta, XA=k*theta/(1+k*theta)\n",
    "\n",
    "k=[]\n",
    "for i in range (5):\n",
    "    k.append (1/r_A_mi_data[i]/C_A_data[i])\n",
    "\n",
    "k=2.0\n",
    "V_CSTR = v*(C_A[0]-C_A[1])*0.8\n",
    "\n",
    "V_PFR = v*np.log(C_A[2]/C_A[1])/(-k)\n",
    "print ('V_CSTR= %.3f L' %V_CSTR)\n",
    "print ('V_PFR= %.3f L'%V_PFR)"
   ]
  },
  {
   "cell_type": "code",
   "execution_count": 53,
   "metadata": {},
   "outputs": [
    {
     "name": "stdout",
     "output_type": "stream",
     "text": [
      "1.0 1.8439088914585775 -0.01747036812567087 -2.35245370808981\n",
      "0.5 1.2041594578792296 -0.0047336974512039035 -1.4153991841148206\n",
      "0.3333333333333333 0.9545214042184236 -0.0016830614523425252 -1.0715292198407882\n"
     ]
    },
    {
     "data": {
      "image/png": "[encoded data removed]",
      "text/plain": [
       "<Figure size 432x288 with 1 Axes>"
      ]
     },
     "metadata": {
      "needs_background": "light"
     },
     "output_type": "display_data"
    }
   ],
   "source": [
    "import numpy as np\n",
    "import matplotlib.pyplot as plt\n",
    "\n",
    "u=0.01\n",
    "dp=0.004\n",
    "eps=0.4 \n",
    "rho=1200\n",
    "Pe=2\n",
    "k=1*10**(-5)\n",
    "\n",
    "for L in (1,2,3):\n",
    "\n",
    "    a_=Pe/L\n",
    "    a=a_/2\n",
    "    b_=Pe*k*rho/(u*L)\n",
    "    b=0.5*np.sqrt(a_**2+4*b_)\n",
    "\n",
    "    A=2*a/((a-b)-(a+b)*np.exp(2*b*L))\n",
    "    B=A*((a+b)/(b-a))*np.exp(2*b*L)\n",
    "    print (a,b,A,B)\n",
    "    z=np.linspace (0,L,50)\n",
    "    CA=A*np.exp((a+b)*z)+B*np.exp((a-b)*z)\n",
    "    plt.plot (z/L,-CA)\n",
    "plt.show()"
   ]
  },
  {
   "cell_type": "code",
   "execution_count": null,
   "metadata": {},
   "outputs": [],
   "source": []
  },
  {
   "cell_type": "code",
   "execution_count": null,
   "metadata": {},
   "outputs": [],
   "source": []
  }
 ],
 "metadata": {
  "kernelspec": {
   "display_name": "Python 3",
   "language": "python",
   "name": "python3"
  },
  "language_info": {
   "codemirror_mode": {
    "name": "ipython",
    "version": 3
   },
   "file_extension": ".py",
   "mimetype": "text/x-python",
   "name": "python",
   "nbconvert_exporter": "python",
   "pygments_lexer": "ipython3",
   "version": "3.7.7"
  }
 },
 "nbformat": 4,
 "nbformat_minor": 4
}
