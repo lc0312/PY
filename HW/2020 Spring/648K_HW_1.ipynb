{
 "cells": [
  {
   "cell_type": "code",
   "execution_count": 1,
   "metadata": {},
   "outputs": [
    {
     "name": "stdout",
     "output_type": "stream",
     "text": [
      "P1Q1:\n",
      "equilibrium_potential E=0.777156 V\n",
      "capacity Q=88.2403 mAh/g\n"
     ]
    }
   ],
   "source": [
    "#P1Q1, Assume temperature T=298K\n",
    "print ('P1Q1:')\n",
    "\n",
    "T = 298 #K\n",
    "F_c = 96485 #C/mol\n",
    "delta_G_1 = -152835.8 + 9.624*T #J/mol\n",
    "\n",
    "# According to equation: delta_G=-nFE\n",
    "\n",
    "n = 2\n",
    "E = delta_G_1/(-n*F_c)\n",
    "print ('equilibrium_potential E=%f V' %(E))\n",
    "\n",
    "# F= 96485C =25800mAh\n",
    "\n",
    "F_mAh = 26800 #mAh\n",
    "M_Li = 6.941 #g/mol\n",
    "M_Sn = 118.710 #g/mol\n",
    "Q = n*F_mAh/(2*M_Li+5*M_Sn) #mAh/g\n",
    "print ('capacity Q=%.4f mAh/g' %(Q))"
   ]
  },
  {
   "cell_type": "code",
   "execution_count": 9,
   "metadata": {},
   "outputs": [
    {
     "name": "stdout",
     "output_type": "stream",
     "text": [
      "P2Q1:\n",
      "equilibrium_potential E=3.35803 V\n",
      "capacity Q=712.520 mAh/g\n",
      "energy_density U=8614.04 J/g or 2392.79 Wh/kg \n",
      "\n",
      "P2Q2:\n",
      "capacity Q=136.914 mAh/g\n",
      "energy_density U=519.998 J/g or 144.44 Wh/kg \n",
      "\n",
      "To fairly compare the capacity of two material, we need include Li, or do not include Li on both material when calculate the capacity\n"
     ]
    }
   ],
   "source": [
    "# P2Q1:\n",
    "print ('P2Q1:')\n",
    "\n",
    "delta_G_2 = -972*1000 #J/mol\n",
    "n = 3\n",
    "E = delta_G_2/(-n*F_c)\n",
    "print ('equilibrium_potential E=%.5f V' %(E))\n",
    "\n",
    "M_Fe = 55.845 #g/mol\n",
    "M_F = 18.998 #g/mol\n",
    "Q = n*F_mAh/(M_Fe+3*M_F) #mAh/g\n",
    "print ('capacity Q=%.3f mAh/g' %(Q))\n",
    "print ('energy_density U=%.2f J/g' %(abs(delta_G_2/(M_Fe+3*M_F))),\n",
    "       'or %.2f Wh/kg' %(abs(delta_G_2/(M_Fe+3*M_F)/3.6)), '\\n')\n",
    "\n",
    "# P2Q2:\n",
    "print ('P2Q2:')\n",
    "\n",
    "E = 4.1-3.045 #V\n",
    "n = 0.5\n",
    "M_O = 15.999 #g/mol\n",
    "M_Co = 58.933 #g/mol\n",
    "Q = n*F_mAh/(M_Li+M_Co+2*M_O) #mAh/g\n",
    "print ('capacity Q=%.3f mAh/g' %(Q))\n",
    "print ('energy_density U=%.3f J/g' %(Q*3.6*E), 'or %.3f Wh/kg' %(Q*E), '\\n')\n",
    "print ('To fairly compare the capacity of two material, we need include Li, or do not include Li on both material when calculate the capacity')"
   ]
  },
  {
   "cell_type": "code",
   "execution_count": 12,
   "metadata": {},
   "outputs": [
    {
     "name": "stdout",
     "output_type": "stream",
     "text": [
      "P3Q1=\n",
      "capacity Q=177.702 mAh/g\n",
      "free_energy ΔG=-328049 J/mol\n"
     ]
    }
   ],
   "source": [
    "#P3Q1:\n",
    "print ('P3Q1=')\n",
    "\n",
    "n = 1\n",
    "E = 3.4 #V\n",
    "M_P = 30.973 #g/mol\n",
    "delta_G_4 = -n*F_c*E\n",
    "Q = n*F_mAh/(M_Fe+M_P+4*M_O)\n",
    "print ('capacity Q=%.3f mAh/g' %(Q))\n",
    "print ('free_energy \\u0394G=%.0f J/mol' %(delta_G_4))"
   ]
  },
  {
   "cell_type": "code",
   "execution_count": 15,
   "metadata": {},
   "outputs": [
    {
     "name": "stdout",
     "output_type": "stream",
     "text": [
      "P4Q1:\n",
      "capacity Q=1671.60 mAh/g\n"
     ]
    }
   ],
   "source": [
    "#P4Q1\n",
    "print ('P4Q1:')\n",
    "\n",
    "n = 2\n",
    "M_S = 32.065 #g/mol\n",
    "Q = n*F_mAh/(M_S)\n",
    "print ('capacity Q=%.2f mAh/g' %(Q))"
   ]
  },
  {
   "cell_type": "code",
   "execution_count": null,
   "metadata": {},
   "outputs": [],
   "source": []
  }
 ],
 "metadata": {
  "kernelspec": {
   "display_name": "Python 3",
   "language": "python",
   "name": "python3"
  },
  "language_info": {
   "codemirror_mode": {
    "name": "ipython",
    "version": 3
   },
   "file_extension": ".py",
   "mimetype": "text/x-python",
   "name": "python",
   "nbconvert_exporter": "python",
   "pygments_lexer": "ipython3",
   "version": "3.7.9"
  }
 },
 "nbformat": 4,
 "nbformat_minor": 4
}
