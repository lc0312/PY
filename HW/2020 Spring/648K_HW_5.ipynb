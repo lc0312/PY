{
 "cells": [
  {
   "cell_type": "code",
   "execution_count": 23,
   "metadata": {},
   "outputs": [
    {
     "name": "stdout",
     "output_type": "stream",
     "text": [
      "Q1\n",
      "Because in a typical PEMFC, the reaction on cathode: oxygen reduction is much slower than anode. Thus, more catalyst in cathode will significantly reduce the over potential of cathode, accordingly, the total over potential will decrease. Then, the performance of fuel cell will increase.\n"
     ]
    }
   ],
   "source": [
    "print ('Q1')\n",
    "print ('Because in a typical PEMFC, the reaction on cathode: oxygen reduction is much slower than anode. Thus, more catalyst in cathode will significantly reduce the over potential of cathode, accordingly, the total over potential will decrease. Then, the performance of fuel cell will increase.')"
   ]
  },
  {
   "cell_type": "code",
   "execution_count": 24,
   "metadata": {},
   "outputs": [
    {
     "name": "stdout",
     "output_type": "stream",
     "text": [
      "Q2\n",
      "Because in PEMFCs we use acid to transfer the protons, the acid(H2SO4) will corrode metals except precious metal(just like Pt). Another reason is SOFC is operating in high temperature, the reaction rate is higher than PEMFCs. Thus we do not need Pt as catalyst any more, Ni will satisfy the reqiurment, Ni is much cheaper than Pt. So, we can use Ni in SOFC as catalyst rather than Pt.\n"
     ]
    }
   ],
   "source": [
    "print ('Q2')\n",
    "print ('Because in PEMFCs we use acid to transfer the protons, the acid(H2SO4) will corrode metals except precious metal(just like Pt). Another reason is SOFC is operating in high temperature, the reaction rate is higher than PEMFCs. Thus we do not need Pt as catalyst any more, Ni will satisfy the reqiurment, Ni is much cheaper than Pt. So, we can use Ni in SOFC as catalyst rather than Pt.')"
   ]
  },
  {
   "cell_type": "code",
   "execution_count": 25,
   "metadata": {},
   "outputs": [
    {
     "name": "stdout",
     "output_type": "stream",
     "text": [
      "Q3\n",
      "Because in PEMFCs the water(H20) will be used to transfer protons, is temperature is higher than 100 C, the water will evaporate. Then, the H2SO4 can not transfer protons anymore. Thus, the temperature can not above 100 C.\n"
     ]
    }
   ],
   "source": [
    "print ('Q3')\n",
    "print ('Because in PEMFCs the water(H20) will be used to transfer protons, is temperature is higher than 100 C, the water will evaporate. Then, the H2SO4 can not transfer protons anymore. Thus, the temperature can not above 100 C.')"
   ]
  },
  {
   "cell_type": "code",
   "execution_count": 39,
   "metadata": {},
   "outputs": [
    {
     "name": "stdout",
     "output_type": "stream",
     "text": [
      "Q4\n",
      "Mass flow rate into anode= 0.894500 g/s\n",
      "Mass flow rate into cathode= 23.8863 g/s\n"
     ]
    }
   ],
   "source": [
    "print ('Q4')\n",
    "F = 96485 # c/mol_e\n",
    "P = 10000 # W\n",
    "V = 0.75 # V\n",
    "\n",
    "I = P/V # A\n",
    "e_flow = I/F # mol_e/s\n",
    "\n",
    "M_H2O = 18.0153 # g/mol\n",
    "H2O_flow = 0.5*e_flow*M_H2O # g/s\n",
    "\n",
    "M_H2 = 2.01568 # g/mol\n",
    "anode_inflow = (2-H2O_flow) + 0.5*e_flow*M_H2 # g/s\n",
    "\n",
    "# Assuming the mass fraction of O2 in air is 23.14%\n",
    "M_O2 = 31.998 # g/mol\n",
    "cathode_inflow = ((0.25*e_flow*M_O2)/0.2)/0.2314 # g/s\n",
    "\n",
    "print ('Mass flow rate into anode= %f g/s' %anode_inflow)\n",
    "print ('Mass flow rate into cathode= %.4f g/s' %cathode_inflow)"
   ]
  },
  {
   "cell_type": "code",
   "execution_count": null,
   "metadata": {},
   "outputs": [],
   "source": []
  }
 ],
 "metadata": {
  "kernelspec": {
   "display_name": "Python 3",
   "language": "python",
   "name": "python3"
  },
  "language_info": {
   "codemirror_mode": {
    "name": "ipython",
    "version": 3
   },
   "file_extension": ".py",
   "mimetype": "text/x-python",
   "name": "python",
   "nbconvert_exporter": "python",
   "pygments_lexer": "ipython3",
   "version": "3.7.7"
  }
 },
 "nbformat": 4,
 "nbformat_minor": 4
}
