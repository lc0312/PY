{
 "cells": [
  {
   "cell_type": "code",
   "execution_count": 21,
   "metadata": {
    "scrolled": true
   },
   "outputs": [
    {
     "name": "stdout",
     "output_type": "stream",
     "text": [
      "active anode mass = 9.33333 g\n",
      "total anode mass = 9.82456 g\n"
     ]
    }
   ],
   "source": [
    "# print ('(1)')\n",
    "\n",
    "den_a = 2.15 #g/cm^3 density of anode materal\n",
    "cap_a = 395-35 #mAh/g real capacity density of anode when cycling\n",
    "wid_a = 5.6 #cm width of anode\n",
    "wid_c = 5 #cm width of cathod\n",
    "\n",
    "cap_t = 3000 #mAh\n",
    "\n",
    "# 5.6/5 from anode width, we need 3000 mAh for 5cm, but need to plating 5.6 cm\n",
    "m_a_a = (cap_t/cap_a)*(5.6/5)\n",
    "\n",
    "m_a_t = m_a_a/0.95 # 95% ammount of active material\n",
    "\n",
    "print ('active anode mass = %.5f g' %(m_a_a))\n",
    "print ('total anode mass = %.5f g' %(m_a_t))"
   ]
  },
  {
   "cell_type": "code",
   "execution_count": 22,
   "metadata": {
    "scrolled": true
   },
   "outputs": [
    {
     "name": "stdout",
     "output_type": "stream",
     "text": [
      "(2)\n",
      "active cathod mass = 19.59325 g\n",
      "total cathod mass = 22.52098 g\n"
     ]
    }
   ],
   "source": [
    "print ('(2)')\n",
    "'''\n",
    "I chose last one LiNi0.5Mn0.3Co0.2O2 as cathod due to the capacity.\n",
    "'''\n",
    "den_c = 3.70 # g/cm^3\n",
    "cap_c = 168 #mAh/g capacity density of cathod\n",
    "\n",
    "# 395/360 for the irreversiby capacity wasted in first cycle\n",
    "m_c_a = (cap_t/cap_c)*(395/360)\n",
    "\n",
    "m_c_t = m_c_a/0.87 # 87% ammount of active material\n",
    "\n",
    "print ('active cathod mass = %.5f g' %(m_c_a))\n",
    "print ('total cathod mass = %.5f g' %(m_c_t))"
   ]
  },
  {
   "cell_type": "code",
   "execution_count": 23,
   "metadata": {
    "scrolled": true
   },
   "outputs": [
    {
     "name": "stdout",
     "output_type": "stream",
     "text": [
      "(3)\n",
      "Thickness of anode was choosen as 0.12 mm\n",
      "Thickness of cathode is 0.179024 mm\n"
     ]
    }
   ],
   "source": [
    "print ('(3)')\n",
    "'''\n",
    "I use 0.1 mm as my thickness for anode.\n",
    "'''\n",
    "thick_a = 0.012 # cm\n",
    "vol_a = m_a_t/den_a #cm^3 volume of pure anode materal\n",
    "por=0.35 # procity\n",
    "vol_a_t = vol_a/(1-por) #cm^3 total volume of anode\n",
    "\n",
    "len_a = vol_a_t/(thick_a*wid_a) # length of anode, also is the length of cathod\n",
    "len_c = len_a\n",
    "\n",
    "vol_c = m_c_t/den_c #cm^3 volume of pure cathode materal\n",
    "vol_c_t = vol_c/(1-por) #cm^3 total volume of cathode\n",
    "\n",
    "thick_c=vol_c_t/(len_c*wid_c) #cm thickness of cathode\n",
    "\n",
    "print ('Thickness of anode was choosen as %.2f mm' %(10*thick_a))\n",
    "print ('Thickness of cathode is %f mm' %(10*thick_c))"
   ]
  },
  {
   "cell_type": "code",
   "execution_count": 24,
   "metadata": {
    "scrolled": true
   },
   "outputs": [
    {
     "name": "stdout",
     "output_type": "stream",
     "text": [
      "(4)\n",
      "Length of electrode pair is 104.615 cm\n"
     ]
    }
   ],
   "source": [
    "print ('(4)')\n",
    "print ('Length of electrode pair is %.3f cm' %(len_c))"
   ]
  },
  {
   "cell_type": "code",
   "execution_count": 25,
   "metadata": {
    "scrolled": true
   },
   "outputs": [
    {
     "name": "stdout",
     "output_type": "stream",
     "text": [
      "(5)\n",
      "The useful capacity of anode is 3000mAh, for cathode is 3000mAh*(395/360). Accordingly, the ratio is 360/395 =0.911392.\n"
     ]
    }
   ],
   "source": [
    "print ('(5)')\n",
    "print ('The useful capacity of anode is 3000mAh, for cathode is 3000mAh*(395/360). Accordingly, the ratio is 360/395 =%f.' %(360/395))"
   ]
  },
  {
   "cell_type": "code",
   "execution_count": 26,
   "metadata": {
    "scrolled": true
   },
   "outputs": [
    {
     "name": "stdout",
     "output_type": "stream",
     "text": [
      "(6)\n",
      "For each cycle the total lost of battery is 0.1% + 0.05%\n"
     ]
    },
    {
     "data": {
      "image/png": "[encoded data removed]",
      "text/plain": [
       "<Figure size 432x288 with 1 Axes>"
      ]
     },
     "metadata": {
      "needs_background": "light"
     },
     "output_type": "display_data"
    },
    {
     "name": "stdout",
     "output_type": "stream",
     "text": [
      "The number of capacity reach 80 percentage of beganing is 148.650768, which mean after 150 cycle, the total capacity is 80 pertentage of 3000mAh\n"
     ]
    }
   ],
   "source": [
    "print ('(6)')\n",
    "import numpy as np\n",
    "import matplotlib.pyplot as plt\n",
    "from scipy import optimize\n",
    "print ('For each cycle the total lost of battery is 0.1% + 0.05%')\n",
    "\n",
    "cyc = np.linspace (0,200) # cycle number from 0 to 200\n",
    "cap_cyc = (1-0.0015)**cyc # capacity percentage after each cycle\n",
    "\n",
    "def cyc_num (n):\n",
    "    return (1-0.0015)**n-0.8\n",
    "\n",
    "# find the number of cycle which capacity reach 80% of beganing\n",
    "sol= optimize.root (cyc_num,[100]) \n",
    "\n",
    "\n",
    "plt.plot (cyc,cap_cyc,label='capacity percentage') # plot capacity percentage vs cycle number\n",
    "plt.plot (cyc,np.linspace (0.8,0.8),label='80% capacity') # plot 80% level\n",
    "plt.xlabel ('cycle number')\n",
    "plt.ylabel ('percentage %')\n",
    "\n",
    "plt.legend ()\n",
    "plt.show ()\n",
    "num=sol.x\n",
    "print ('The number of capacity reach 80 percentage of beganing is %f, which mean after 150 cycle, the total capacity is 80 pertentage of 3000mAh' %(num))\n",
    "\n"
   ]
  },
  {
   "cell_type": "code",
   "execution_count": 27,
   "metadata": {
    "scrolled": true
   },
   "outputs": [
    {
     "name": "stdout",
     "output_type": "stream",
     "text": [
      "(7)\n",
      "The increase of tickness will reduce the length and this could increase the energy density, because the useage of Cu and Al will reduce\n",
      "The increase of length will increase the power density, because thickness will decrease, this make electrons transport easier\n"
     ]
    }
   ],
   "source": [
    "print ('(7)')\n",
    "print ('The increase of tickness will reduce the length and this could increase the energy density, because the useage of Cu and Al will reduce')\n",
    "print ('The increase of length will increase the power density, because thickness will decrease, this make electrons transport easier')"
   ]
  },
  {
   "cell_type": "code",
   "execution_count": 28,
   "metadata": {
    "scrolled": true
   },
   "outputs": [
    {
     "name": "stdout",
     "output_type": "stream",
     "text": [
      "(8)\n",
      "The price of my cell is 0.178623 $/Wh\n"
     ]
    }
   ],
   "source": [
    "print ('(8)')\n",
    "cost_a = m_a_a*12/1000\n",
    "cost_c = m_c_a*55/1000\n",
    "cost_t = (cost_a+cost_c)/0.6\n",
    "\n",
    "V_a=0.1 # voltage of anode\n",
    "V_c=3.8 \n",
    "V=V_c-V_a\n",
    "E=V*3 # Wh\n",
    "\n",
    "print ('The price of my cell is %f $/Wh' %(cost_t/E))"
   ]
  },
  {
   "cell_type": "code",
   "execution_count": 29,
   "metadata": {
    "scrolled": true
   },
   "outputs": [
    {
     "name": "stdout",
     "output_type": "stream",
     "text": [
      "(9)\n",
      "The higher porosity will reduce the eneygy density, but increase the power density\n"
     ]
    }
   ],
   "source": [
    "print ('(9)')\n",
    "print ('The higher porosity will reduce the eneygy density, but increase the power density')"
   ]
  },
  {
   "cell_type": "code",
   "execution_count": 30,
   "metadata": {
    "scrolled": true
   },
   "outputs": [
    {
     "name": "stdout",
     "output_type": "stream",
     "text": [
      "(10)\n",
      "In my opinion, first solution is use Li meatal as cathode and choose a cheap Li salt as electrolytes. Then it is useful to develope the manufacturing methods to control the cost\n"
     ]
    }
   ],
   "source": [
    "print ('(10)')\n",
    "print ('In my opinion, first solution is use Li meatal as cathode and choose a cheap Li salt as electrolytes. Then it is useful to develope the manufacturing methods to control the cost')"
   ]
  },
  {
   "cell_type": "code",
   "execution_count": null,
   "metadata": {
    "scrolled": true
   },
   "outputs": [],
   "source": []
  }
 ],
 "metadata": {
  "kernelspec": {
   "display_name": "Python 3",
   "language": "python",
   "name": "python3"
  },
  "language_info": {
   "codemirror_mode": {
    "name": "ipython",
    "version": 3
   },
   "file_extension": ".py",
   "mimetype": "text/x-python",
   "name": "python",
   "nbconvert_exporter": "python",
   "pygments_lexer": "ipython3",
   "version": "3.7.7"
  }
 },
 "nbformat": 4,
 "nbformat_minor": 4
}
