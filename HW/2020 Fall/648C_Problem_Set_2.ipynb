{
 "cells": [
  {
   "cell_type": "code",
   "execution_count": 2,
   "metadata": {},
   "outputs": [
    {
     "name": "stdout",
     "output_type": "stream",
     "text": [
      "1. \n",
      " Assume constant Molecular wt, gravity on earth. \n",
      " Assume and idea gas law valid here.\n",
      " Assume in sealevel pressure is 1 atm here. \n",
      "\n",
      "Pressure = 43745.8 Pa\n"
     ]
    }
   ],
   "source": [
    "import numpy as np\n",
    "from scipy import optimize\n",
    "\n",
    "print ('1. \\n Assume constant Molecular wt, gravity on earth. \\n Assume and idea gas law valid here.\\n Assume in sealevel pressure is 1 atm here. \\n')\n",
    "\n",
    "def barometric_P (h,T):\n",
    "    \n",
    "    P_0=101325 # Pa\n",
    "    R = 8.314 # J/(mol*K)\n",
    "    g = 9.807 # m/s²\n",
    "    m_air = 28.9647 # g/mol\n",
    "    rho = 0.6/100 # K/100m\n",
    "    \n",
    "    return P_0*((T-rho*h)/T)**(m_air*g/R/rho/1000)\n",
    "    \n",
    "T = 270.8167 # K, data from Denali Park Headquarters.\n",
    "h = 6190 # m,refer to sea level, from Wikipedia.\n",
    "\n",
    "print ('Pressure = %.1f Pa' %barometric_P(h,T))"
   ]
  },
  {
   "cell_type": "code",
   "execution_count": 2,
   "metadata": {},
   "outputs": [
    {
     "name": "stdout",
     "output_type": "stream",
     "text": [
      "2.\n",
      " Assume 40% RH condition is at 25°C \n",
      "\n",
      "condense temperature =10.4742 °C\n"
     ]
    }
   ],
   "source": [
    "print ('2.\\n Assume 40% RH condition is at 25°C \\n')\n",
    "\n",
    "def find_t(t):\n",
    "    \n",
    "    def Buck_P(t):\n",
    "        \n",
    "        return 0.61121*np.exp((18.678-t/234.5)*(t/(257.14+t)))\n",
    "\n",
    "    P_H2O_EVP = Buck_P(25) # kPa, from Buck equation.\n",
    "    P_H2O = 0.4*P_H2O_EVP # 40% of equlibrium vapor pressure.\n",
    "    \n",
    "    return Buck_P(t)-P_H2O \n",
    "\n",
    "sol = optimize.root (find_t,15) # find temperature that will condense in this P_H2O.\n",
    "\n",
    "print ('condense temperature =%.4f °C' %sol.x)"
   ]
  },
  {
   "cell_type": "code",
   "execution_count": 4,
   "metadata": {},
   "outputs": [
    {
     "name": "stdout",
     "output_type": "stream",
     "text": [
      "3.\n",
      " Assume Heat of vaporation is constant. \n",
      " Assume reference pressure is 1 atm. \n",
      " Assume reference temperature is 25°C. \n",
      "\n",
      "a. Pressure = 7.05065e-02 atm \n",
      "\n",
      "b. Height = 18501.5 m\n"
     ]
    }
   ],
   "source": [
    "print ('3.\\n Assume Heat of vaporation is constant. \\n Assume reference pressure is 1 atm. \\n Assume reference temperature is 25°C. \\n')\n",
    "       \n",
    "def find_P(T): #from Clausius–Clapeyron equation, find pressure that water will boiling at 37.2°C.\n",
    "    \n",
    "    R = 8.314 # J/mol/K\n",
    "    delta_H = 40660 # J/mol\n",
    "    T_0 = 373.15 # K\n",
    "    P_0 = 1 # atm\n",
    "    \n",
    "    return (np.exp((1/T_0-1/T)*delta_H/R)*P_0)\n",
    "\n",
    "print('a. Pressure = %.5e atm \\n' %find_P(273.15+37.2))\n",
    "\n",
    "# Continu with problem 1\n",
    "\n",
    "def find_h (h):\n",
    "    return barometric_P (h,298.15)-101325*find_P(273.15+37.2)\n",
    "\n",
    "sol = optimize.root (find_h,7500) # find height that has pressure in part a.\n",
    "\n",
    "print ('b. Height = %.1f m' %sol.x)"
   ]
  },
  {
   "cell_type": "code",
   "execution_count": 4,
   "metadata": {},
   "outputs": [
    {
     "name": "stdout",
     "output_type": "stream",
     "text": [
      "3. \n",
      "\n",
      "For particulate: 3.14961e+03 lb\n",
      "For SO2: 5.24412e+04 lb\n"
     ]
    }
   ],
   "source": [
    "print ('3. \\n')\n",
    "\n",
    "eta = 0.39\n",
    "W_BTUsec = 9.478e-4 # W to BTU/sec\n",
    "E_perday = 1e+9*W_BTUsec*24*60*60/eta # BTU\n",
    "heat_value = 12000 # BTU/lb\n",
    "coal_mass = E_perday/heat_value # lb\n",
    "\n",
    "# for particulate:\n",
    "particulate_m = 0.015*E_perday/1e+6 # lb\n",
    "\n",
    "print ('For particulate: %.5e lb' %particulate_m)\n",
    "\n",
    "# SO2, first standard：\n",
    "SO2_m1 = 1000*24*1.4 # lb\n",
    "\n",
    "# SO2, second standard：\n",
    "\n",
    "SO2_S = 64.066/32.065 # Molar mass ratio SO2/S\n",
    "SO2_m2 = coal_mass*0.03*SO2_S*0.05 # lb\n",
    "\n",
    "if SO2_m1>SO2_m2:\n",
    "    print ('For SO2: %.5e lb' %SO2_m1)\n",
    "else:\n",
    "    print ('For SO2: %.5e lb' %SO2_m2)\n"
   ]
  },
  {
   "cell_type": "code",
   "execution_count": null,
   "metadata": {},
   "outputs": [],
   "source": []
  }
 ],
 "metadata": {
  "kernelspec": {
   "display_name": "Python 3",
   "language": "python",
   "name": "python3"
  },
  "language_info": {
   "codemirror_mode": {
    "name": "ipython",
    "version": 3
   },
   "file_extension": ".py",
   "mimetype": "text/x-python",
   "name": "python",
   "nbconvert_exporter": "python",
   "pygments_lexer": "ipython3",
   "version": "3.7.9"
  }
 },
 "nbformat": 4,
 "nbformat_minor": 4
}
