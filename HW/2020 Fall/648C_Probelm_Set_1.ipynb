{
 "cells": [
  {
   "cell_type": "code",
   "execution_count": 1,
   "metadata": {},
   "outputs": [
    {
     "name": "stdout",
     "output_type": "stream",
     "text": [
      "Problem 1. \n",
      "\n",
      "a. 3.00e-04 ppmv\n",
      "b. 0.309880 ppmv\n",
      "c. 16.1780 ppmv\n"
     ]
    }
   ],
   "source": [
    "print ('Problem 1. \\n')\n",
    "\n",
    "import numpy as np\n",
    "\n",
    "a = 0.30/1000\n",
    "print ('a. %.2e ppmv' %a )\n",
    "\n",
    "M_O3 = 47.9982 # g/mol\n",
    "V_m = 0.0247895 # m^3/mol\n",
    "V_O3 = ((600*1e-6)*V_m/M_O3)*1e+6\n",
    "print ('b. %f ppmv' %V_O3)\n",
    "\n",
    "# In 250F 1 atm for air: 0.05561 lb/ft^3\n",
    "# Assume SO2 and air have same molar volume, thus ppmm=ppmv\n",
    "\n",
    "M_SO2_lb = 0.141241 # lb/mol\n",
    "V_molar_ft = 1.1425004509 # 250F, 1atm\n",
    "ans=(2e-6)/M_SO2_lb*V_molar_ft*1e+6\n",
    "\n",
    "print ('c. %.4f ppmv' %(ans))\n"
   ]
  },
  {
   "cell_type": "code",
   "execution_count": 97,
   "metadata": {
    "scrolled": true
   },
   "outputs": [
    {
     "name": "stdout",
     "output_type": "stream",
     "text": [
      "Problem 2. \n",
      "\n",
      "a. 1.20e-08 g\n",
      "b. 1.73624e+06 \n",
      "c. Grams number for industry, particle number for environment organization.\n",
      "Because grams number is a reletively small number, people will not care about it, then I could continue producing. \n",
      "For environmental organization, the purpose is to draw attention from people, thus I need a large number (particle number) to shock them.\n"
     ]
    }
   ],
   "source": [
    "print ('Problem 2. \\n')\n",
    "\n",
    "stand = 12*10**-6 # g/m^3\n",
    "ans_a = stand*1/1000\n",
    "print ('a. %.2e g' %ans_a)\n",
    "\n",
    "# Assume density of PM1.0 is 1.65 g/cm^3 Resource: DOI: 10.1080/10962247.2015.1032446\n",
    "R_PM1 = 1.0e-6 # m\n",
    "rho_PM1 = 1650 # g/m^3\n",
    "V_PM1 = 4/3*np.pi*R_PM1**3 # m^3\n",
    "ans_b = ans_a/rho_PM1/V_PM1\n",
    "print ('b. %.5e ' %ans_b)\n",
    "\n",
    "print ('c. Grams number for industry, particle number for environment organization.\\n'\n",
    "       'Because grams number is a reletively small number, people will not care about it, then I could continue producing. \\n'\n",
    "      'For environmental organization, the purpose is to draw attention from people, thus I need a large number (particle number) to shock them.')"
   ]
  },
  {
   "cell_type": "code",
   "execution_count": 143,
   "metadata": {},
   "outputs": [
    {
     "name": "stdout",
     "output_type": "stream",
     "text": [
      "Problem 3. \n",
      "\n",
      "a. 9.27846e+05 BTU/sec\n",
      "b. 5.38759e+03 tons/day\n",
      "c. 97.0%\n",
      "d. 1.29031e+04 metric tons/day\n"
     ]
    }
   ],
   "source": [
    "print ('Problem 3. \\n')\n",
    "\n",
    "eta = 0.38\n",
    "W_BTUsec = 9.478e-4 # W to BTU/sec\n",
    "ans_a = (600e+6*W_BTUsec/eta)*(1-eta)\n",
    "print ('a. %.5e BTU/sec'  %ans_a)\n",
    "\n",
    "BTUlb_Whtons = 586.142 # BTU/lb to Wh/tons\n",
    "ans_b = (600e+6*24/0.38)/(12000*BTUlb_Whtons)\n",
    "print ('b. %.5e tons/day' %ans_b)\n",
    "\n",
    "SO2_S = 64.066/32.065 # Molar mass ratio SO2/S\n",
    "ans_c = (1-(0.15/1e+6)/(0.03*SO2_S/12000))*100\n",
    "print('c. %.1f%%' %ans_c)\n",
    "\n",
    "Whr_BTU = 3.41214 # W*hr to BTU\n",
    "lb_metrictons = 0.000453592 # lb to metric_tons\n",
    "ans_d = (600*1e+6*24/0.38*Whr_BTU)*(220/1e+6)*lb_metrictons\n",
    "print ('d. %.5e metric tons/day' %ans_d)"
   ]
  }
 ],
 "metadata": {
  "kernelspec": {
   "display_name": "Python 3",
   "language": "python",
   "name": "python3"
  },
  "language_info": {
   "codemirror_mode": {
    "name": "ipython",
    "version": 3
   },
   "file_extension": ".py",
   "mimetype": "text/x-python",
   "name": "python",
   "nbconvert_exporter": "python",
   "pygments_lexer": "ipython3",
   "version": "3.7.9"
  }
 },
 "nbformat": 4,
 "nbformat_minor": 4
}
