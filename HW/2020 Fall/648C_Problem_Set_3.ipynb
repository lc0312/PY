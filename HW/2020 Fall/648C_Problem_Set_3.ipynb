{
 "cells": [
  {
   "cell_type": "code",
   "execution_count": 6,
   "metadata": {},
   "outputs": [
    {
     "name": "stdout",
     "output_type": "stream",
     "text": [
      "1. C = 5.94555e-03 g/m^3 \n",
      "\n",
      "2. (a) C = 5.94555e-03 g/m^3 \n",
      "   (b) C = 1.25509e-04 g/m^3\n"
     ]
    }
   ],
   "source": [
    "import numpy as np\n",
    "\n",
    "Q = 0.24132 # g/s\n",
    "H = 1.68 # m\n",
    "u = 3.05 # m/s\n",
    "# for C class stability, in 5km\n",
    "sigma_y = 1.8 # m\n",
    "sigma_z = 1.2 # m\n",
    "def GP_C (x,y,z):\n",
    "    return Q/(2*np.pi*u*sigma_y*sigma_z)*np.exp(-y**2/(2*sigma_y**2))*(np.exp(-(z+H)**2/(2*sigma_z**2))+np.exp(-(z-H)**2/(2*sigma_z**2)))\n",
    "\n",
    "print ('1. C = %.5e g/m^3 \\n' %GP_C(10,0,H)) # g/m^3\n",
    "\n",
    "print ('2. (a) C = %.5e g/m^3 ' %GP_C(10,0,H))\n",
    "\n",
    "print ('   (b) C = %.5e g/m^3' %GP_C(10,5,H))"
   ]
  },
  {
   "cell_type": "code",
   "execution_count": null,
   "metadata": {},
   "outputs": [],
   "source": []
  },
  {
   "cell_type": "code",
   "execution_count": null,
   "metadata": {},
   "outputs": [],
   "source": []
  }
 ],
 "metadata": {
  "kernelspec": {
   "display_name": "Python 3",
   "language": "python",
   "name": "python3"
  },
  "language_info": {
   "codemirror_mode": {
    "name": "ipython",
    "version": 3
   },
   "file_extension": ".py",
   "mimetype": "text/x-python",
   "name": "python",
   "nbconvert_exporter": "python",
   "pygments_lexer": "ipython3",
   "version": "3.7.9"
  }
 },
 "nbformat": 4,
 "nbformat_minor": 4
}
