{
 "cells": [
  {
   "cell_type": "code",
   "execution_count": 35,
   "metadata": {},
   "outputs": [
    {
     "name": "stdout",
     "output_type": "stream",
     "text": [
      "ppm = 1, theta_H = 0.460685, theta_CO = 0.539267, theta = 0.000048\n",
      "ppm = 10, theta_H = 0.078703, theta_CO = 0.921288, theta = 0.000008\n",
      "ppm = 100, theta_H = 0.008470, theta_CO = 0.991529, theta = 0.000001\n"
     ]
    }
   ],
   "source": [
    "import numpy as np\n",
    "\n",
    "T = 80+273.15 # K\n",
    "S0_H2, S0_CO = 1,1\n",
    "kB = 1.38e-23 # J/K\n",
    "m_H2 = 2*1.6e-27 # kg\n",
    "m_CO = 28*1.6e-27 # kg\n",
    "N0 = 1.5e+19 # /m^2\n",
    "v = 1e+13 # /s\n",
    "R = 8.314 # J/K/mol\n",
    "Ed_CO = 1e+5 # J/mol\n",
    "Ed_H = 8e+4 # J/mol\n",
    "\n",
    "k_1_plus = 2*S0_H2/N0/np.sqrt(2*np.pi*m_H2*kB*T)\n",
    "k_1_minus = v*np.exp(-Ed_H/R/T)\n",
    "k_2_plus = S0_CO/N0/np.sqrt(2*np.pi*m_CO*kB*T)\n",
    "k_2_minus = v*np.exp(-Ed_CO/R/T)\n",
    "P = 101325 # Pa\n",
    "\n",
    "def theta (ppm):\n",
    "    # first for H2, then for CO\n",
    "    return [np.sqrt(k_1_plus/k_1_minus*(1-ppm/1e+6)*P)/(1+k_2_plus/k_2_minus*ppm/1e+6*P+np.sqrt(k_1_plus/k_1_minus*(1-ppm/1e+6)*P)),\n",
    "            k_2_plus/k_2_minus*ppm/1e+6*P/(1+k_2_plus/k_2_minus*ppm/1e+6*P+np.sqrt(k_1_plus/k_1_minus*(1-ppm/1e+6)*P))]\n",
    "\n",
    "for ppm in (1,10,100):\n",
    "    print ('ppm = %s, theta_H = %.6f, theta_CO = %.6f, theta = %.6f' %(ppm,theta(ppm)[0],theta(ppm)[1],1-theta(ppm)[0]-theta(ppm)[1]))\n"
   ]
  },
  {
   "cell_type": "code",
   "execution_count": null,
   "metadata": {},
   "outputs": [],
   "source": []
  }
 ],
 "metadata": {
  "kernelspec": {
   "display_name": "Python 3",
   "language": "python",
   "name": "python3"
  },
  "language_info": {
   "codemirror_mode": {
    "name": "ipython",
    "version": 3
   },
   "file_extension": ".py",
   "mimetype": "text/x-python",
   "name": "python",
   "nbconvert_exporter": "python",
   "pygments_lexer": "ipython3",
   "version": "3.7.9"
  }
 },
 "nbformat": 4,
 "nbformat_minor": 4
}
